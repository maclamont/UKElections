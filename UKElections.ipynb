{
 "cells": [
  {
   "cell_type": "markdown",
   "metadata": {},
   "source": [
    "# UK Elections Analysis\n",
    "\n",
    "This iPython notebook will represent an analysis of UK voting patterns and records.  So far, full election results have been obtained for the 2005, 2010 and 2015 UK general elections.  Polling data has been obtained going back into the 1940s which represents a wealth of data from which to study from.\n",
    "\n",
    "The first thing I will want to do is understand my data and what it looks like.  For a start, here is what information I have for the 2015 UK general election.  This one was particularly interesting as it dumbfounded the pollsters who thought that there would be a hung parliament but it turned out to be a Conservative majority."
   ]
  },
  {
   "cell_type": "code",
   "execution_count": 19,
   "metadata": {
    "collapsed": true
   },
   "outputs": [],
   "source": [
    "# First of all, import files into python\n",
    "import numpy as np\n",
    "import pandas as pd\n",
    "from pandas import Series, DataFrame\n",
    "\n",
    "# For visualization\n",
    "import matplotlib.pyplot as plt\n",
    "import seaborn as sns\n",
    "%matplotlib inline\n",
    "\n"
   ]
  },
  {
   "cell_type": "code",
   "execution_count": 20,
   "metadata": {
    "collapsed": false
   },
   "outputs": [],
   "source": [
    "results_2105_df = pd.read_csv(\"./Data/UK_Election_2015/2015-UK-General-election-data-collated-results-Results.csv\")\n",
    "constituency_2105_df = pd.read_csv(\"./Data/UK_Election_2015/2015-UK-General-election-data-collated-results-Constituency.csv\")\n"
   ]
  },
  {
   "cell_type": "code",
   "execution_count": 21,
   "metadata": {
    "collapsed": false
   },
   "outputs": [
    {
     "data": {
      "text/html": [
       "<div>\n",
       "<table border=\"1\" class=\"dataframe\">\n",
       "  <thead>\n",
       "    <tr style=\"text-align: right;\">\n",
       "      <th></th>\n",
       "      <th>Forename</th>\n",
       "      <th>Surname</th>\n",
       "      <th>Description on ballot paper</th>\n",
       "      <th>Constituency Name</th>\n",
       "      <th>PANo</th>\n",
       "      <th>Votes</th>\n",
       "      <th>Share</th>\n",
       "    </tr>\n",
       "  </thead>\n",
       "  <tbody>\n",
       "    <tr>\n",
       "      <th>0</th>\n",
       "      <td>Stephen</td>\n",
       "      <td>Kinnock</td>\n",
       "      <td>Welsh Labour/Llafur Cymru</td>\n",
       "      <td>Aberavon</td>\n",
       "      <td>1</td>\n",
       "      <td>15416</td>\n",
       "      <td>48.90</td>\n",
       "    </tr>\n",
       "    <tr>\n",
       "      <th>1</th>\n",
       "      <td>Peter</td>\n",
       "      <td>Bush</td>\n",
       "      <td>UK Independence Party (UKIP)</td>\n",
       "      <td>Aberavon</td>\n",
       "      <td>1</td>\n",
       "      <td>4971</td>\n",
       "      <td>15.77</td>\n",
       "    </tr>\n",
       "    <tr>\n",
       "      <th>2</th>\n",
       "      <td>Edward</td>\n",
       "      <td>Yi He</td>\n",
       "      <td>Welsh Conservative Party Candidate/Ymgeisydd P...</td>\n",
       "      <td>Aberavon</td>\n",
       "      <td>1</td>\n",
       "      <td>3742</td>\n",
       "      <td>11.87</td>\n",
       "    </tr>\n",
       "    <tr>\n",
       "      <th>3</th>\n",
       "      <td>Duncan</td>\n",
       "      <td>Higgitt</td>\n",
       "      <td>Plaid Cymru - The Party of Wales</td>\n",
       "      <td>Aberavon</td>\n",
       "      <td>1</td>\n",
       "      <td>3663</td>\n",
       "      <td>11.62</td>\n",
       "    </tr>\n",
       "    <tr>\n",
       "      <th>4</th>\n",
       "      <td>Helen</td>\n",
       "      <td>Clarke</td>\n",
       "      <td>Welsh Liberal Democrats - Democratiaid Rhyddfr...</td>\n",
       "      <td>Aberavon</td>\n",
       "      <td>1</td>\n",
       "      <td>1397</td>\n",
       "      <td>4.43</td>\n",
       "    </tr>\n",
       "    <tr>\n",
       "      <th>5</th>\n",
       "      <td>Captain</td>\n",
       "      <td>Beany</td>\n",
       "      <td>Independent</td>\n",
       "      <td>Aberavon</td>\n",
       "      <td>1</td>\n",
       "      <td>1137</td>\n",
       "      <td>3.61</td>\n",
       "    </tr>\n",
       "    <tr>\n",
       "      <th>6</th>\n",
       "      <td>Jonathan</td>\n",
       "      <td>Tier</td>\n",
       "      <td>Green Party/Plaid Werdd</td>\n",
       "      <td>Aberavon</td>\n",
       "      <td>1</td>\n",
       "      <td>711</td>\n",
       "      <td>2.26</td>\n",
       "    </tr>\n",
       "    <tr>\n",
       "      <th>7</th>\n",
       "      <td>Andrew</td>\n",
       "      <td>Jordan</td>\n",
       "      <td>Socialist Labour Party/Plaid Lafur Sosialaidd</td>\n",
       "      <td>Aberavon</td>\n",
       "      <td>1</td>\n",
       "      <td>352</td>\n",
       "      <td>1.12</td>\n",
       "    </tr>\n",
       "    <tr>\n",
       "      <th>8</th>\n",
       "      <td>Owen</td>\n",
       "      <td>Herbert</td>\n",
       "      <td>Trade Unionist and Socialist Coalition</td>\n",
       "      <td>Aberavon</td>\n",
       "      <td>1</td>\n",
       "      <td>134</td>\n",
       "      <td>0.43</td>\n",
       "    </tr>\n",
       "    <tr>\n",
       "      <th>9</th>\n",
       "      <td>Guto</td>\n",
       "      <td>Bebb</td>\n",
       "      <td>Welsh Conservative Party Candidate/Ymgeisydd P...</td>\n",
       "      <td>Aberconwy</td>\n",
       "      <td>2</td>\n",
       "      <td>12513</td>\n",
       "      <td>41.51</td>\n",
       "    </tr>\n",
       "    <tr>\n",
       "      <th>10</th>\n",
       "      <td>Mary</td>\n",
       "      <td>Wimbury</td>\n",
       "      <td>Welsh Labour/Llafur Cymru</td>\n",
       "      <td>Aberconwy</td>\n",
       "      <td>2</td>\n",
       "      <td>8514</td>\n",
       "      <td>28.24</td>\n",
       "    </tr>\n",
       "    <tr>\n",
       "      <th>11</th>\n",
       "      <td>Dafydd</td>\n",
       "      <td>Meurig</td>\n",
       "      <td>Plaid Cymru - The Party of Wales</td>\n",
       "      <td>Aberconwy</td>\n",
       "      <td>2</td>\n",
       "      <td>3536</td>\n",
       "      <td>11.73</td>\n",
       "    </tr>\n",
       "    <tr>\n",
       "      <th>12</th>\n",
       "      <td>Andrew</td>\n",
       "      <td>Haigh</td>\n",
       "      <td>UKIP</td>\n",
       "      <td>Aberconwy</td>\n",
       "      <td>2</td>\n",
       "      <td>3467</td>\n",
       "      <td>11.50</td>\n",
       "    </tr>\n",
       "    <tr>\n",
       "      <th>13</th>\n",
       "      <td>Victor</td>\n",
       "      <td>Babu</td>\n",
       "      <td>Welsh Liberal Democrats - Democratiaid Rhyddfr...</td>\n",
       "      <td>Aberconwy</td>\n",
       "      <td>2</td>\n",
       "      <td>1391</td>\n",
       "      <td>4.61</td>\n",
       "    </tr>\n",
       "    <tr>\n",
       "      <th>14</th>\n",
       "      <td>Petra</td>\n",
       "      <td>Haig</td>\n",
       "      <td>Green Party/Plaid Werdd</td>\n",
       "      <td>Aberconwy</td>\n",
       "      <td>2</td>\n",
       "      <td>727</td>\n",
       "      <td>2.41</td>\n",
       "    </tr>\n",
       "  </tbody>\n",
       "</table>\n",
       "</div>"
      ],
      "text/plain": [
       "    Forename  Surname                        Description on ballot paper  \\\n",
       "0    Stephen  Kinnock                          Welsh Labour/Llafur Cymru   \n",
       "1      Peter     Bush                       UK Independence Party (UKIP)   \n",
       "2     Edward    Yi He  Welsh Conservative Party Candidate/Ymgeisydd P...   \n",
       "3     Duncan  Higgitt                   Plaid Cymru - The Party of Wales   \n",
       "4     Helen    Clarke  Welsh Liberal Democrats - Democratiaid Rhyddfr...   \n",
       "5    Captain    Beany                                        Independent   \n",
       "6   Jonathan     Tier                            Green Party/Plaid Werdd   \n",
       "7     Andrew   Jordan      Socialist Labour Party/Plaid Lafur Sosialaidd   \n",
       "8       Owen  Herbert             Trade Unionist and Socialist Coalition   \n",
       "9      Guto      Bebb  Welsh Conservative Party Candidate/Ymgeisydd P...   \n",
       "10      Mary  Wimbury                          Welsh Labour/Llafur Cymru   \n",
       "11    Dafydd   Meurig                   Plaid Cymru - The Party of Wales   \n",
       "12   Andrew     Haigh                                               UKIP   \n",
       "13    Victor     Babu  Welsh Liberal Democrats - Democratiaid Rhyddfr...   \n",
       "14    Petra      Haig                            Green Party/Plaid Werdd   \n",
       "\n",
       "   Constituency Name  PANo  Votes  Share  \n",
       "0           Aberavon     1  15416  48.90  \n",
       "1           Aberavon     1   4971  15.77  \n",
       "2           Aberavon     1   3742  11.87  \n",
       "3           Aberavon     1   3663  11.62  \n",
       "4           Aberavon     1   1397   4.43  \n",
       "5           Aberavon     1   1137   3.61  \n",
       "6           Aberavon     1    711   2.26  \n",
       "7           Aberavon     1    352   1.12  \n",
       "8           Aberavon     1    134   0.43  \n",
       "9          Aberconwy     2  12513  41.51  \n",
       "10         Aberconwy     2   8514  28.24  \n",
       "11         Aberconwy     2   3536  11.73  \n",
       "12         Aberconwy     2   3467  11.50  \n",
       "13         Aberconwy     2   1391   4.61  \n",
       "14         Aberconwy     2    727   2.41  "
      ]
     },
     "execution_count": 21,
     "metadata": {},
     "output_type": "execute_result"
    }
   ],
   "source": [
    "results_2105_df.head(15)"
   ]
  },
  {
   "cell_type": "markdown",
   "metadata": {},
   "source": [
    "So, the results dataframe contains the name of the candidate, their party, their constituency, their total number of votes and their percentage of the vote.  It is sorted by constituency in alphabetical order.  Inside each constituency, it appears to be sorted by percentage of the vote share."
   ]
  },
  {
   "cell_type": "code",
   "execution_count": 22,
   "metadata": {
    "collapsed": false
   },
   "outputs": [
    {
     "data": {
      "text/html": [
       "<div>\n",
       "<table border=\"1\" class=\"dataframe\">\n",
       "  <thead>\n",
       "    <tr style=\"text-align: right;\">\n",
       "      <th></th>\n",
       "      <th>PANo</th>\n",
       "      <th>Constituency Name</th>\n",
       "      <th>Constituency ID</th>\n",
       "      <th>Constituency Type</th>\n",
       "      <th>Electorate</th>\n",
       "      <th>Valid Votes</th>\n",
       "      <th>Unnamed: 6</th>\n",
       "    </tr>\n",
       "  </thead>\n",
       "  <tbody>\n",
       "    <tr>\n",
       "      <th>0</th>\n",
       "      <td>1</td>\n",
       "      <td>Aberavon</td>\n",
       "      <td>W07000049</td>\n",
       "      <td>County</td>\n",
       "      <td>49821</td>\n",
       "      <td>31523</td>\n",
       "      <td>NaN</td>\n",
       "    </tr>\n",
       "    <tr>\n",
       "      <th>1</th>\n",
       "      <td>2</td>\n",
       "      <td>Aberconwy</td>\n",
       "      <td>W07000058</td>\n",
       "      <td>County</td>\n",
       "      <td>45540</td>\n",
       "      <td>30148</td>\n",
       "      <td>NaN</td>\n",
       "    </tr>\n",
       "    <tr>\n",
       "      <th>2</th>\n",
       "      <td>3</td>\n",
       "      <td>Aberdeen North</td>\n",
       "      <td>S14000001</td>\n",
       "      <td>Burgh</td>\n",
       "      <td>67745</td>\n",
       "      <td>43936</td>\n",
       "      <td>NaN</td>\n",
       "    </tr>\n",
       "    <tr>\n",
       "      <th>3</th>\n",
       "      <td>4</td>\n",
       "      <td>Aberdeen South</td>\n",
       "      <td>S14000002</td>\n",
       "      <td>Burgh</td>\n",
       "      <td>68056</td>\n",
       "      <td>48551</td>\n",
       "      <td>NaN</td>\n",
       "    </tr>\n",
       "    <tr>\n",
       "      <th>4</th>\n",
       "      <td>5</td>\n",
       "      <td>West Aberdeenshire and Kincardine</td>\n",
       "      <td>S14000058</td>\n",
       "      <td>County</td>\n",
       "      <td>73445</td>\n",
       "      <td>55196</td>\n",
       "      <td>NaN</td>\n",
       "    </tr>\n",
       "  </tbody>\n",
       "</table>\n",
       "</div>"
      ],
      "text/plain": [
       "   PANo                  Constituency Name Constituency ID Constituency Type  \\\n",
       "0     1                           Aberavon       W07000049            County   \n",
       "1     2                          Aberconwy       W07000058            County   \n",
       "2     3                     Aberdeen North       S14000001             Burgh   \n",
       "3     4                     Aberdeen South       S14000002             Burgh   \n",
       "4     5  West Aberdeenshire and Kincardine       S14000058            County   \n",
       "\n",
       "   Electorate  Valid Votes  Unnamed: 6  \n",
       "0       49821        31523         NaN  \n",
       "1       45540        30148         NaN  \n",
       "2       67745        43936         NaN  \n",
       "3       68056        48551         NaN  \n",
       "4       73445        55196         NaN  "
      ]
     },
     "execution_count": 22,
     "metadata": {},
     "output_type": "execute_result"
    }
   ],
   "source": [
    "constituency_2105_df.head()"
   ]
  },
  {
   "cell_type": "markdown",
   "metadata": {},
   "source": [
    "The constituency cvs file gives the name of the constituency, its ID (W stands for Wales, S for Scotland), it's type (a County is more rural and a Burgh is a city, in the above example).  Also given are the Electorate, which is the number of people allowed to vote together with the number of valid votes cast.  From this, I can work out the turnout for each constituency!\n",
    "\n",
    "To make things easier, the first thing I will do is rename the columns in order to get rid of the spaces."
   ]
  },
  {
   "cell_type": "code",
   "execution_count": 23,
   "metadata": {
    "collapsed": true
   },
   "outputs": [],
   "source": [
    "constituency_2105_df.columns = [\"PANo\",\"Constituency_Name\",\"Constituency_ID\",\"Constituency_Type\",\"Electorate\",\"Valid_Votes\",\"Unnamed\"]"
   ]
  },
  {
   "cell_type": "code",
   "execution_count": 24,
   "metadata": {
    "collapsed": false
   },
   "outputs": [
    {
     "data": {
      "text/html": [
       "<div>\n",
       "<table border=\"1\" class=\"dataframe\">\n",
       "  <thead>\n",
       "    <tr style=\"text-align: right;\">\n",
       "      <th></th>\n",
       "      <th>PANo</th>\n",
       "      <th>Constituency_Name</th>\n",
       "      <th>Constituency_ID</th>\n",
       "      <th>Constituency_Type</th>\n",
       "      <th>Electorate</th>\n",
       "      <th>Valid_Votes</th>\n",
       "      <th>Unnamed</th>\n",
       "    </tr>\n",
       "  </thead>\n",
       "  <tbody>\n",
       "    <tr>\n",
       "      <th>0</th>\n",
       "      <td>1</td>\n",
       "      <td>Aberavon</td>\n",
       "      <td>W07000049</td>\n",
       "      <td>County</td>\n",
       "      <td>49821</td>\n",
       "      <td>31523</td>\n",
       "      <td>NaN</td>\n",
       "    </tr>\n",
       "    <tr>\n",
       "      <th>1</th>\n",
       "      <td>2</td>\n",
       "      <td>Aberconwy</td>\n",
       "      <td>W07000058</td>\n",
       "      <td>County</td>\n",
       "      <td>45540</td>\n",
       "      <td>30148</td>\n",
       "      <td>NaN</td>\n",
       "    </tr>\n",
       "    <tr>\n",
       "      <th>2</th>\n",
       "      <td>3</td>\n",
       "      <td>Aberdeen North</td>\n",
       "      <td>S14000001</td>\n",
       "      <td>Burgh</td>\n",
       "      <td>67745</td>\n",
       "      <td>43936</td>\n",
       "      <td>NaN</td>\n",
       "    </tr>\n",
       "    <tr>\n",
       "      <th>3</th>\n",
       "      <td>4</td>\n",
       "      <td>Aberdeen South</td>\n",
       "      <td>S14000002</td>\n",
       "      <td>Burgh</td>\n",
       "      <td>68056</td>\n",
       "      <td>48551</td>\n",
       "      <td>NaN</td>\n",
       "    </tr>\n",
       "    <tr>\n",
       "      <th>4</th>\n",
       "      <td>5</td>\n",
       "      <td>West Aberdeenshire and Kincardine</td>\n",
       "      <td>S14000058</td>\n",
       "      <td>County</td>\n",
       "      <td>73445</td>\n",
       "      <td>55196</td>\n",
       "      <td>NaN</td>\n",
       "    </tr>\n",
       "  </tbody>\n",
       "</table>\n",
       "</div>"
      ],
      "text/plain": [
       "   PANo                  Constituency_Name Constituency_ID Constituency_Type  \\\n",
       "0     1                           Aberavon       W07000049            County   \n",
       "1     2                          Aberconwy       W07000058            County   \n",
       "2     3                     Aberdeen North       S14000001             Burgh   \n",
       "3     4                     Aberdeen South       S14000002             Burgh   \n",
       "4     5  West Aberdeenshire and Kincardine       S14000058            County   \n",
       "\n",
       "   Electorate  Valid_Votes  Unnamed  \n",
       "0       49821        31523      NaN  \n",
       "1       45540        30148      NaN  \n",
       "2       67745        43936      NaN  \n",
       "3       68056        48551      NaN  \n",
       "4       73445        55196      NaN  "
      ]
     },
     "execution_count": 24,
     "metadata": {},
     "output_type": "execute_result"
    }
   ],
   "source": [
    "constituency_2105_df.head()"
   ]
  },
  {
   "cell_type": "markdown",
   "metadata": {},
   "source": [
    "Now I will drop the unnamed column and also create my turnout column"
   ]
  },
  {
   "cell_type": "code",
   "execution_count": 25,
   "metadata": {
    "collapsed": false
   },
   "outputs": [],
   "source": [
    "constituency_2105_df.drop(\"Unnamed\",axis=1,inplace=True)"
   ]
  },
  {
   "cell_type": "code",
   "execution_count": 31,
   "metadata": {
    "collapsed": false
   },
   "outputs": [],
   "source": [
    "constituency_2105_df[\"Turnout\"] = 100*(constituency_2105_df.Valid_Votes/constituency_2105_df.Electorate)"
   ]
  },
  {
   "cell_type": "code",
   "execution_count": 32,
   "metadata": {
    "collapsed": false
   },
   "outputs": [
    {
     "data": {
      "text/html": [
       "<div>\n",
       "<table border=\"1\" class=\"dataframe\">\n",
       "  <thead>\n",
       "    <tr style=\"text-align: right;\">\n",
       "      <th></th>\n",
       "      <th>PANo</th>\n",
       "      <th>Constituency_Name</th>\n",
       "      <th>Constituency_ID</th>\n",
       "      <th>Constituency_Type</th>\n",
       "      <th>Electorate</th>\n",
       "      <th>Valid_Votes</th>\n",
       "      <th>Turnout</th>\n",
       "    </tr>\n",
       "  </thead>\n",
       "  <tbody>\n",
       "    <tr>\n",
       "      <th>0</th>\n",
       "      <td>1</td>\n",
       "      <td>Aberavon</td>\n",
       "      <td>W07000049</td>\n",
       "      <td>County</td>\n",
       "      <td>49821</td>\n",
       "      <td>31523</td>\n",
       "      <td>63.272516</td>\n",
       "    </tr>\n",
       "    <tr>\n",
       "      <th>1</th>\n",
       "      <td>2</td>\n",
       "      <td>Aberconwy</td>\n",
       "      <td>W07000058</td>\n",
       "      <td>County</td>\n",
       "      <td>45540</td>\n",
       "      <td>30148</td>\n",
       "      <td>66.201142</td>\n",
       "    </tr>\n",
       "    <tr>\n",
       "      <th>2</th>\n",
       "      <td>3</td>\n",
       "      <td>Aberdeen North</td>\n",
       "      <td>S14000001</td>\n",
       "      <td>Burgh</td>\n",
       "      <td>67745</td>\n",
       "      <td>43936</td>\n",
       "      <td>64.854971</td>\n",
       "    </tr>\n",
       "    <tr>\n",
       "      <th>3</th>\n",
       "      <td>4</td>\n",
       "      <td>Aberdeen South</td>\n",
       "      <td>S14000002</td>\n",
       "      <td>Burgh</td>\n",
       "      <td>68056</td>\n",
       "      <td>48551</td>\n",
       "      <td>71.339779</td>\n",
       "    </tr>\n",
       "    <tr>\n",
       "      <th>4</th>\n",
       "      <td>5</td>\n",
       "      <td>West Aberdeenshire and Kincardine</td>\n",
       "      <td>S14000058</td>\n",
       "      <td>County</td>\n",
       "      <td>73445</td>\n",
       "      <td>55196</td>\n",
       "      <td>75.152835</td>\n",
       "    </tr>\n",
       "  </tbody>\n",
       "</table>\n",
       "</div>"
      ],
      "text/plain": [
       "   PANo                  Constituency_Name Constituency_ID Constituency_Type  \\\n",
       "0     1                           Aberavon       W07000049            County   \n",
       "1     2                          Aberconwy       W07000058            County   \n",
       "2     3                     Aberdeen North       S14000001             Burgh   \n",
       "3     4                     Aberdeen South       S14000002             Burgh   \n",
       "4     5  West Aberdeenshire and Kincardine       S14000058            County   \n",
       "\n",
       "   Electorate  Valid_Votes    Turnout  \n",
       "0       49821        31523  63.272516  \n",
       "1       45540        30148  66.201142  \n",
       "2       67745        43936  64.854971  \n",
       "3       68056        48551  71.339779  \n",
       "4       73445        55196  75.152835  "
      ]
     },
     "execution_count": 32,
     "metadata": {},
     "output_type": "execute_result"
    }
   ],
   "source": [
    "constituency_2105_df.head()"
   ]
  },
  {
   "cell_type": "markdown",
   "metadata": {},
   "source": [
    "So now I have a dataframe which I can work with.  I may want to add things such as 'Country' to this dataframe and probably want to transfer some of this informtion from the constituency dataframe into the main election dataframe."
   ]
  },
  {
   "cell_type": "code",
   "execution_count": 45,
   "metadata": {
    "collapsed": false
   },
   "outputs": [
    {
     "data": {
      "text/plain": [
       "<matplotlib.axes._subplots.AxesSubplot at 0x1114a6e10>"
      ]
     },
     "execution_count": 45,
     "metadata": {},
     "output_type": "execute_result"
    },
    {
     "data": {
      "image/png": "[encoded data removed]",
      "text/plain": [
       "<matplotlib.figure.Figure at 0x10bce38d0>"
      ]
     },
     "metadata": {},
     "output_type": "display_data"
    }
   ],
   "source": [
    "sns.distplot(constituency_2105_df['Turnout'],rug=True)"
   ]
  },
  {
   "cell_type": "markdown",
   "metadata": {},
   "source": [
    "If I just plot the turnout, then this looks like it was a relatively high turnout.  It will be good to look at this as a factor of region, party victory and also years."
   ]
  },
  {
   "cell_type": "code",
   "execution_count": null,
   "metadata": {
    "collapsed": true
   },
   "outputs": [],
   "source": []
  },
  {
   "cell_type": "code",
   "execution_count": null,
   "metadata": {
    "collapsed": true
   },
   "outputs": [],
   "source": []
  },
  {
   "cell_type": "code",
   "execution_count": null,
   "metadata": {
    "collapsed": true
   },
   "outputs": [],
   "source": []
  }
 ],
 "metadata": {
  "kernelspec": {
   "display_name": "Python 2",
   "language": "python",
   "name": "python2"
  },
  "language_info": {
   "codemirror_mode": {
    "name": "ipython",
    "version": 2
   },
   "file_extension": ".py",
   "mimetype": "text/x-python",
   "name": "python",
   "nbconvert_exporter": "python",
   "pygments_lexer": "ipython2",
   "version": "2.7.10"
  }
 },
 "nbformat": 4,
 "nbformat_minor": 0
}
